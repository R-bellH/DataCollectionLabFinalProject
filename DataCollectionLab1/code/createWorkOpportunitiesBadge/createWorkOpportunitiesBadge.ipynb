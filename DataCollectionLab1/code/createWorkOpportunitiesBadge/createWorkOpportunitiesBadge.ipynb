{
 "cells": [
  {
   "cell_type": "markdown",
   "metadata": {},
   "source": [
    "# Preprocess the scraped data"
   ]
  },
  {
   "cell_type": "code",
   "execution_count": 1,
   "metadata": {},
   "outputs": [],
   "source": [
    "import findspark\n",
    "findspark.init()\n",
    "from pyspark.sql import SparkSession\n",
    "from pyspark.sql.functions import *\n",
    "from pyspark.sql.types import *\n",
    "import re\n",
    "import os\n",
    "import numpy as np\n",
    "import matplotlib.pyplot as plt\n",
    "from matplotlib.lines import Line2D\n",
    "\n",
    "def init_spark(app_name: str):\n",
    "    spark = SparkSession.builder.appName(app_name).getOrCreate()\n",
    "    sc = spark.sparkContext\n",
    "    return spark, sc\n",
    "\n",
    "spark, sc = init_spark('Proj')\n",
    "reg = re.compile(\",\") "
   ]
  },
  {
   "cell_type": "code",
   "execution_count": 2,
   "metadata": {},
   "outputs": [],
   "source": [
    "proj_dir = os.path.dirname(os.path.dirname(os.getcwd()))\n",
    "\n",
    "# read file into spark df\n",
    "open_position_data = spark.read.csv(f'{proj_dir}\\data\\scrapedData\\open_positions_data.csv', header=True)"
   ]
  },
  {
   "cell_type": "code",
   "execution_count": 3,
   "metadata": {},
   "outputs": [],
   "source": [
    "# Create a new column indicating if the row had a \"+\" character or not\n",
    "cleaned_open_position_data = open_position_data.withColumn(\"has_plus\", col(\"jobs count\").contains(\"+\"))\n",
    "\n",
    "# Remove \"+\" character and commas from \"jobs count\" column and cast to integer\n",
    "cleaned_open_position_data = cleaned_open_position_data.withColumn(\n",
    "    \"jobs_count_clean\", \n",
    "    regexp_replace(regexp_replace(col(\"jobs count\"), \"\\\\+\", \"\"), \",\", \"\").cast(\"integer\")\n",
    ")\n",
    "# Show the updated DataFrame\n",
    "# cleaned_open_position_data.show()\n",
    "\n"
   ]
  },
  {
   "cell_type": "code",
   "execution_count": 4,
   "metadata": {},
   "outputs": [],
   "source": [
    "# Convert jobs_count_clean column to integer and replace nulls with a default value (e.g., 0)\n",
    "cleaned_open_position_data = cleaned_open_position_data.withColumn(\n",
    "    \"jobs_count_clean_int\", \n",
    "    when(col(\"jobs_count_clean\").cast(\"int\").isNull(), 0).otherwise(col(\"jobs_count_clean\").cast(\"int\"))\n",
    ")\n",
    "\n",
    "cleaned_open_position_data_ordered = cleaned_open_position_data.orderBy(\"jobs_count_clean_int\", ascending=False)\n",
    "# cleaned_open_position_data_ordered.show(5)\n"
   ]
  },
  {
   "cell_type": "code",
   "execution_count": 5,
   "metadata": {},
   "outputs": [],
   "source": [
    "cleaned_open_position_data_ordered = cleaned_open_position_data_ordered.dropDuplicates(subset=[\"company\"]).orderBy(\"jobs_count_clean_int\", ascending=False)\n",
    "# cleaned_open_position_data_ordered.show(5)"
   ]
  },
  {
   "cell_type": "code",
   "execution_count": 6,
   "metadata": {},
   "outputs": [],
   "source": [
    "from pyspark.sql.functions import dense_rank\n",
    "from pyspark.sql.window import Window\n",
    "\n",
    "# Define a window specification ordered by the column you want to rank by\n",
    "window_spec = Window.orderBy(desc(\"jobs_count_clean_int\"))\n",
    "\n",
    "# Add a new column with dense rank\n",
    "cleaned_open_position_data_ordered = cleaned_open_position_data_ordered.withColumn(\"work_opportunities_rank\", dense_rank().over(window_spec))\n",
    "\n",
    "# cleaned_open_position_data_ordered.show(20)"
   ]
  },
  {
   "cell_type": "markdown",
   "metadata": {},
   "source": [
    "# Analysis"
   ]
  },
  {
   "cell_type": "code",
   "execution_count": 7,
   "metadata": {},
   "outputs": [],
   "source": [
    "analysis_df = cleaned_open_position_data_ordered.select(\"company\", \"jobs_count_clean_int\", \"work_opportunities_rank\")"
   ]
  },
  {
   "cell_type": "code",
   "execution_count": 8,
   "metadata": {},
   "outputs": [
    {
     "ename": "AttributeError",
     "evalue": "'DataFrame' object has no attribute 'display'",
     "output_type": "error",
     "traceback": [
      "\u001b[1;31m---------------------------------------------------------------------------\u001b[0m",
      "\u001b[1;31mAttributeError\u001b[0m                            Traceback (most recent call last)",
      "Cell \u001b[1;32mIn[8], line 1\u001b[0m\n\u001b[1;32m----> 1\u001b[0m \u001b[43manalysis_df\u001b[49m\u001b[38;5;241;43m.\u001b[39;49m\u001b[43mdisplay\u001b[49m()\n",
      "File \u001b[1;32mC:\\BigDataLocalSetup\\spark\\python\\pyspark\\sql\\dataframe.py:1643\u001b[0m, in \u001b[0;36mDataFrame.__getattr__\u001b[1;34m(self, name)\u001b[0m\n\u001b[0;32m   1633\u001b[0m \u001b[38;5;250m\u001b[39m\u001b[38;5;124;03m\"\"\"Returns the :class:`Column` denoted by ``name``.\u001b[39;00m\n\u001b[0;32m   1634\u001b[0m \n\u001b[0;32m   1635\u001b[0m \u001b[38;5;124;03m.. versionadded:: 1.3.0\u001b[39;00m\n\u001b[1;32m   (...)\u001b[0m\n\u001b[0;32m   1640\u001b[0m \u001b[38;5;124;03m[Row(age=2), Row(age=5)]\u001b[39;00m\n\u001b[0;32m   1641\u001b[0m \u001b[38;5;124;03m\"\"\"\u001b[39;00m\n\u001b[0;32m   1642\u001b[0m \u001b[38;5;28;01mif\u001b[39;00m name \u001b[38;5;129;01mnot\u001b[39;00m \u001b[38;5;129;01min\u001b[39;00m \u001b[38;5;28mself\u001b[39m\u001b[38;5;241m.\u001b[39mcolumns:\n\u001b[1;32m-> 1643\u001b[0m     \u001b[38;5;28;01mraise\u001b[39;00m \u001b[38;5;167;01mAttributeError\u001b[39;00m(\n\u001b[0;32m   1644\u001b[0m         \u001b[38;5;124m\"\u001b[39m\u001b[38;5;124m'\u001b[39m\u001b[38;5;132;01m%s\u001b[39;00m\u001b[38;5;124m'\u001b[39m\u001b[38;5;124m object has no attribute \u001b[39m\u001b[38;5;124m'\u001b[39m\u001b[38;5;132;01m%s\u001b[39;00m\u001b[38;5;124m'\u001b[39m\u001b[38;5;124m\"\u001b[39m \u001b[38;5;241m%\u001b[39m (\u001b[38;5;28mself\u001b[39m\u001b[38;5;241m.\u001b[39m\u001b[38;5;18m__class__\u001b[39m\u001b[38;5;241m.\u001b[39m\u001b[38;5;18m__name__\u001b[39m, name))\n\u001b[0;32m   1645\u001b[0m jc \u001b[38;5;241m=\u001b[39m \u001b[38;5;28mself\u001b[39m\u001b[38;5;241m.\u001b[39m_jdf\u001b[38;5;241m.\u001b[39mapply(name)\n\u001b[0;32m   1646\u001b[0m \u001b[38;5;28;01mreturn\u001b[39;00m Column(jc)\n",
      "\u001b[1;31mAttributeError\u001b[0m: 'DataFrame' object has no attribute 'display'"
     ]
    }
   ],
   "source": [
    "analysis_df"
   ]
  },
  {
   "cell_type": "markdown",
   "metadata": {},
   "source": [
    "## Find top known companies rank"
   ]
  },
  {
   "cell_type": "code",
   "execution_count": null,
   "metadata": {},
   "outputs": [],
   "source": [
    "gampa_rows = analysis_df.filter((analysis_df.company == \"Microsoft\")| (analysis_df.company == \"Amazon\") | (analysis_df.company == \"Google\") | (analysis_df.company == \"Meta\") | (analysis_df.company == \"Apple inc.\") | (analysis_df.company == \"Netflix\") | (analysis_df.company == \"Tesla\") | (analysis_df.company == \"Uber\") | (analysis_df.company == \"Lyft\") | (analysis_df.company == \"Airbnb\") | (analysis_df.company == \"Slack\") | (analysis_df.company == \"Pinterest\") | (analysis_df.company == \"Snapchat\") | (analysis_df.company == \"Twitter\") | (analysis_df.company == \"Dropbox\"))\n",
    "gampa_rows"
   ]
  },
  {
   "cell_type": "markdown",
   "metadata": {},
   "source": [
    "## Distribution for companies per location"
   ]
  },
  {
   "cell_type": "code",
   "execution_count": null,
   "metadata": {},
   "outputs": [],
   "source": [
    "companies_per_location = analysis_df.groupBy(\"work_opportunities_rank\").count()\n",
    "companies_per_location"
   ]
  },
  {
   "cell_type": "code",
   "execution_count": null,
   "metadata": {},
   "outputs": [],
   "source": [
    "# Cast columns to int\n",
    "companies_per_location = companies_per_location.withColumn(\"work_opportunities_rank\", col(\"work_opportunities_rank\").cast(\"int\"))\n",
    "companies_per_location = companies_per_location.withColumn(\"count\", col(\"count\").cast(\"int\"))\n",
    "\n",
    "# Collect column values into lists of Row objects\n",
    "companies_per_location_rank_rows = companies_per_location.select(\"work_opportunities_rank\").collect()\n",
    "companies_per_location_count_rows = companies_per_location.select(\"count\").collect()\n",
    "\n",
    "# Extract values from Row objects\n",
    "companies_per_location_rank = [row['work_opportunities_rank'] for row in companies_per_location_rank_rows]\n",
    "companies_per_location_count = [row['count'] for row in companies_per_location_count_rows]\n",
    "\n",
    "# Expand 'work_opportunities_rank' according to 'count'\n",
    "expanded_rank = np.repeat(companies_per_location_rank, companies_per_location_count)\n",
    "\n",
    "# Calculate statistics\n",
    "median_rank = np.median(expanded_rank)\n",
    "mean_rank = np.mean(expanded_rank)\n",
    "q75_rank, q25_rank = np.percentile(expanded_rank, [75 ,25])\n",
    "iqr_rank = q75_rank - q25_rank\n",
    "\n",
    "# Plot\n",
    "bars = plt.bar(companies_per_location_rank, companies_per_location_count)\n",
    "\n",
    "# Add labels and title\n",
    "plt.xlabel('Work Opportunities Rank')\n",
    "plt.ylabel('Count')\n",
    "plt.title('Companies per Rank')\n",
    "\n",
    "# Add statistics as lines\n",
    "plt.axvline(median_rank, color='r', linestyle='dashed', linewidth=2, label=f'Median: {median_rank}')\n",
    "plt.axvline(mean_rank, color='g', linestyle='dashed', linewidth=2, label=f'Mean: {mean_rank}')\n",
    "plt.axvspan(q25_rank, q75_rank, color='b', alpha=0.1, label=f'IQR: {iqr_rank}')\n",
    "\n",
    "# Create custom legend\n",
    "legend_elements = [Line2D([0], [0], color='b', lw=1, label='oppurtunities per rank'),\n",
    "                   Line2D([0], [0], color='r', linestyle='dashed', lw=2, label=f'Median: {median_rank}'),\n",
    "                   Line2D([0], [0], color='g', linestyle='dashed', lw=2, label=f'Mean: {mean_rank}'),\n",
    "                   Line2D([0], [0], color='b', alpha=0.1, lw=10, label=f'IQR: {iqr_rank}')]\n",
    "\n",
    "# Add legend\n",
    "plt.legend(handles=legend_elements)\n",
    "\n",
    "plt.show()"
   ]
  },
  {
   "cell_type": "markdown",
   "metadata": {},
   "source": [
    "## Find top 0.5% companies in work opportunities"
   ]
  },
  {
   "cell_type": "code",
   "execution_count": null,
   "metadata": {},
   "outputs": [],
   "source": [
    "# Find top 0.25% companies in work opportunities\n",
    "top_025_percent_companies = analysis_df.filter(analysis_df.work_opportunities_rank <= 0.0025 * analysis_df.count())\n",
    "print(f\"Top 0.25% companies in work opportunities: {top_025_percent_companies.count()} out of total {analysis_df.count()} companies\")\n",
    "top_025_percent_companies\n"
   ]
  },
  {
   "cell_type": "markdown",
   "metadata": {},
   "source": [
    "## Bubble plot - top 10 companies"
   ]
  },
  {
   "cell_type": "code",
   "execution_count": null,
   "metadata": {},
   "outputs": [],
   "source": [
    "# # Select top 10 companies\n",
    "# top_companies = analysis_df.orderBy(col(\"jobs_count_clean_int\").desc()).limit(10)\n",
    "\n",
    "# # Collect column values into lists of Row objects\n",
    "# top_companies_company_rows = top_companies.select(\"company\").collect()\n",
    "# top_companies_rank_rows = top_companies.select(\"work_opportunities_rank\").collect()\n",
    "# top_companies_count_rows = top_companies.select(\"jobs_count_clean_int\").collect()\n",
    "\n",
    "# # Extract values from Row objects\n",
    "# top_companies_company = [row['company'] for row in top_companies_company_rows]\n",
    "# top_companies_rank = [row['work_opportunities_rank'] for row in top_companies_rank_rows]\n",
    "# top_companies_count = [row['jobs_count_clean_int'] for row in top_companies_count_rows]\n",
    "\n",
    "\n",
    "\n",
    "# # Create bubble plot\n",
    "# plt.scatter(top_companies_rank, top_companies_count, s=100)\n",
    "\n",
    "# # Add labels and title\n",
    "# plt.xlabel('Work Opportunities Rank')\n",
    "# plt.ylabel('Jobs Count')\n",
    "# plt.title('Top 10 Companies')\n",
    "\n",
    "# # Add company names as annotations\n",
    "# for i in range(len(top_companies_company)):\n",
    "#     plt.annotate(top_companies_company[i], (top_companies_rank[i], top_companies_count[i]))\n",
    "\n",
    "# plt.show()"
   ]
  }
 ],
 "metadata": {
  "kernelspec": {
   "display_name": "datacollectionlabprojfolder-1jHnuBZs-py3.11",
   "language": "python",
   "name": "python3"
  },
  "language_info": {
   "codemirror_mode": {
    "name": "ipython",
    "version": 3
   },
   "file_extension": ".py",
   "mimetype": "text/x-python",
   "name": "python",
   "nbconvert_exporter": "python",
   "pygments_lexer": "ipython3",
   "version": "3.11.8"
  }
 },
 "nbformat": 4,
 "nbformat_minor": 2
}

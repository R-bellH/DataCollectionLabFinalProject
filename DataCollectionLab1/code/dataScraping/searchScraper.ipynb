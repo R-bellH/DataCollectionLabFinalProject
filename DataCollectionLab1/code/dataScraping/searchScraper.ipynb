{
 "cells": [
  {
   "cell_type": "code",
   "execution_count": null,
   "id": "cf075ad8b0bbfbb2",
   "metadata": {
    "ExecuteTime": {
     "end_time": "2024-04-02T12:42:14.699917Z",
     "start_time": "2024-04-02T12:42:12.142033Z"
    },
    "collapsed": false
   },
   "outputs": [],
   "source": [
    "import ssl\n",
    "import urllib.request\n",
    "import json\n",
    "import pandas as pd"
   ]
  },
  {
   "cell_type": "code",
   "execution_count": null,
   "id": "initial_id",
   "metadata": {
    "ExecuteTime": {
     "end_time": "2024-04-02T12:42:14.731578Z",
     "start_time": "2024-04-02T12:42:14.701925Z"
    },
    "collapsed": true
   },
   "outputs": [],
   "source": [
    "#list of jobs search terms\n",
    "jobs_titles=[\"data analyst\", \"media producer\", \"software engineer\", \"data scientist\", \"product manager\", \"marketing manager\", \"sales manager\", \"customer service\", \"accountant\", \"financial analyst\", \"human resources\",\"Designer\", \"Civil Engineer\", \"UI Developer\", \"Project Manager\", \"Backend Engineer\", \"Customer Success\", \"DevOps Engineer\", \"Technician\", \"Test Automation\", \"Electrical Design\", \"Frontend Developer\", \"General Laborer\", \"Budget Analyst\", \"Financial Analyst\", \"Sales Development\", \"SLED Systems Engineer\", \"QA Engineer\", \"Technical Support\", \"Supply Chain Coordinator\"]\n",
    "\n",
    "#list of companies\n",
    "with open(\"../../data/companies_names_linkedin.txt\",'r',encoding='utf-8') as f:\n",
    "    companies = f.readlines()\n",
    "companies = companies[:500]\n",
    "companies = [company.strip() for company in companies]\n",
    "\n",
    "# build the search terms\n",
    "search_terms=[]\n",
    "for job in jobs_titles:\n",
    "    for company in companies:\n",
    "        search_terms.append(f'\"{job}\" \"{company}\" linkedin')\n",
    "print(len(search_terms))"
   ]
  },
  {
   "cell_type": "code",
   "execution_count": null,
   "id": "472b4b4c066eea0b",
   "metadata": {
    "ExecuteTime": {
     "end_time": "2024-04-02T12:42:20.004739Z",
     "start_time": "2024-04-02T12:42:19.989539Z"
    },
    "collapsed": false
   },
   "outputs": [],
   "source": [
    "def parse_search_terms(search_term):\n",
    "    \"\"\"\n",
    "    This function gets the search term and returns the search term as a string\n",
    "    :param search_term: \n",
    "    :return: the search term as a string for the google search api\n",
    "    \"\"\"\n",
    "    search_term = search_term.replace(' ', '+')\n",
    "    search_term = search_term.replace('\"', '%22')\n",
    "    return search_term\n",
    "\n",
    "def get_search_results(search_term): \n",
    "    \"\"\"\n",
    "    This function gets the search results from Google and returns them as a json\n",
    "    :param search_term: a string of the search term\n",
    "    :return: a json of first page of search results from Google\n",
    "    \"\"\"\n",
    "    # TODO: currently only return the first page of search results, its possible to get more pages (but since that costs money, and the alpha is based on the number of companies, we don't necessarily want that)\n",
    "    print(f\"searching for: {search_term}\")\n",
    "    search_term_url = parse_search_terms(search_term)\n",
    "    ssl._create_default_https_context = ssl._create_unverified_context\n",
    "    try:\n",
    "        opener = urllib.request.build_opener(\n",
    "            urllib.request.ProxyHandler(\n",
    "                {'http': 'http://{username}}:{password}@{host}',\n",
    "                'https': 'http://{username}}:{password}@{host}'}))\n",
    "        json_result = json.loads(opener.open(f'https://www.google.com/search?q={search_term_url}&gl=af&brd_json=1').read())\n",
    "    except Exception as e:\n",
    "        print(f\"Error: {e}\")\n",
    "        print(f\"error for search term: {search_term}\")\n",
    "        json_result = None\n",
    "    return json_result"
   ]
  },
  {
   "cell_type": "code",
   "execution_count": null,
   "id": "ffcda49ba5de12d8",
   "metadata": {
    "ExecuteTime": {
     "end_time": "2024-04-02T12:42:22.909640Z",
     "start_time": "2024-04-02T12:42:22.904500Z"
    },
    "collapsed": false
   },
   "outputs": [],
   "source": [
    "def parse_linkdin_name(link_text):\n",
    "    \"\"\"\n",
    "    This function gets the link text of a person and returns the name of the person\n",
    "    :param link_text: \n",
    "    :return: \n",
    "    \"\"\"\n",
    "    name = link_text.split(\"/in/\")[1].split(\"/\")[0]\n",
    "    # split by -\n",
    "    name = name.split(\"-\")\n",
    "    # if any part of the name is a number, remove the whole part\n",
    "    name = [part for part in name if not any(char.isdigit() for char in part)]\n",
    "    # join the parts\n",
    "    name = \" \".join(name)\n",
    "    return name"
   ]
  },
  {
   "cell_type": "code",
   "execution_count": null,
   "id": "9a9b79c90be60e7b",
   "metadata": {
    "ExecuteTime": {
     "end_time": "2024-04-02T12:52:27.845952Z",
     "start_time": "2024-04-02T12:52:26.395414Z"
    },
    "collapsed": false
   },
   "outputs": [],
   "source": [
    "results={}\n",
    "#read progress so far\n",
    "with open(\"../../data/employees_extracted.json\", \"r\",encoding='utf-8') as f:\n",
    "    json_data = json.load(f)\n",
    "# save it into the results dictionary\n",
    "results = json_data\n",
    "print(f\"{len(results.keys())} search terms have already been saved\")\n",
    "\n",
    "# remove the search terms that have already been searched\n",
    "search_terms = [search_term for search_term in search_terms if search_term not in results.keys()]\n",
    "print(f\"searching for {len(search_terms)} search terms\")\n",
    "\n",
    "# # search for the remaining search terms\n",
    "# for search_term in search_terms:\n",
    "#     json_result = get_search_results(search_term)\n",
    "#     if json_result:\n",
    "#         results[search_term] = json_result\n",
    "#     else:\n",
    "#         print(f\"Error for search term: {search_term}\")\n",
    "#         print(\"saving the results so far and skipping\")\n",
    "#         print(\"progress so far: \", len(results.keys()))\n",
    "#         with open(\"../../data/employees_extracted.json\", \"w\") as f:\n",
    "#             json.dump(results, f)\n",
    "# print(\"done! saving the results\")\n",
    "# with open(\"../../data/employees_extracted.json\", \"w\") as f:\n",
    "#             json.dump(results, f)\n",
    "\n",
    "data=pd.DataFrame()\n",
    "name_from_link = []\n",
    "name_from_title=[]\n",
    "job_title = []\n",
    "company = []\n",
    "\n",
    "for search_term in results.keys():\n",
    "    if \"organic\" not in results[search_term].keys():\n",
    "        continue\n",
    "    for result in results[search_term][\"organic\"]:\n",
    "        link_text = result[\"link\"]\n",
    "        if \"/in/\" in link_text:\n",
    "            name_from_link.append(parse_linkdin_name(link_text))\n",
    "            name_from_title.append(result[\"title\"].split(\" -\")[0])\n",
    "            job_title.append(search_term.split('\"')[1])\n",
    "            company.append(search_term.split('\"')[3])\n",
    "data[\"name_from_link\"] = name_from_link\n",
    "data[\"name_from_title\"] = name_from_title\n",
    "data[\"job_title\"] = job_title\n",
    "data[\"company\"] = company\n",
    "data.to_csv(\"../../data/employees_extracted.csv\", index=False)"
   ]
  },
  {
   "cell_type": "code",
   "execution_count": null,
   "id": "f3cc61dab3b5a694",
   "metadata": {
    "ExecuteTime": {
     "end_time": "2024-04-02T12:42:37.280241Z",
     "start_time": "2024-04-02T12:42:36.215677Z"
    },
    "collapsed": false
   },
   "outputs": [],
   "source": [
    "with open(r\"C:\\Users\\loonn\\Desktop\\technion\\semster 7\\DataCollectionLab1\\code\\delete\\employees_extracted3.json\", \"r\", encoding='utf-8') as f:\n",
    "    results = json.load(f)\n",
    "for result in results.keys():\n",
    "    # each entry is a json \n",
    "    # print(results[result].keys())\n",
    "    print(results[result][\"organic\"])\n",
    "    \n",
    "data=pd.DataFrame()\n",
    "#cols for the data frame\n",
    "name_from_link = []\n",
    "name_from_title=[]\n",
    "job_title = []\n",
    "company = []\n",
    "\n",
    "for search_term in results.keys():\n",
    "    for result in results[search_term][\"organic\"]:\n",
    "        link_text=result[\"link\"]\n",
    "        if \"/in/\" in link_text:\n",
    "            name_from_link.append(parse_linkdin_name(link_text))\n",
    "            name_from_title.append(result[\"title\"].split(\" -\")[0])\n",
    "            job_title.append(search_term.split('\"')[1])\n",
    "            company.append(search_term.split('\"')[3])\n",
    "data[\"name_from_link\"] = name_from_link\n",
    "data[\"name_from_title\"] = name_from_title\n",
    "data[\"job_title\"] = job_title\n",
    "data[\"company\"] = company\n",
    "data.to_csv(\"../../data/employees_extracted.csv\", index=False)"
   ]
  },
  {
   "cell_type": "markdown",
   "id": "918c59d823f21cb1",
   "metadata": {
    "collapsed": false
   },
   "source": [
    " pet example of the json data"
   ]
  },
  {
   "cell_type": "code",
   "execution_count": null,
   "id": "b283d703594d7ed8",
   "metadata": {
    "ExecuteTime": {
     "end_time": "2024-03-31T14:25:50.293561Z",
     "start_time": "2024-03-31T14:25:50.052714Z"
    },
    "collapsed": false
   },
   "outputs": [],
   "source": [
    "print(results.keys())\n",
    "# save the json data\n",
    "with open(\"../../data/employees_extracted.json\", \"w\") as f:\n",
    "    json.dump(results, f)"
   ]
  },
  {
   "cell_type": "code",
   "execution_count": null,
   "id": "4823e7fd22844d7e",
   "metadata": {
    "collapsed": false
   },
   "outputs": [],
   "source": [
    "#read the json data\n",
    "with open(\"../../data/employees_extracted.json\", \"r\") as f:\n",
    "    json_data = json.load(f)\n",
    "# save it into the results dictionary\n",
    "results = json_data"
   ]
  },
  {
   "cell_type": "code",
   "execution_count": null,
   "id": "b340a3ce26e6a517",
   "metadata": {
    "ExecuteTime": {
     "end_time": "2024-03-31T10:11:50.651100Z",
     "start_time": "2024-03-31T10:11:44.231169Z"
    },
    "collapsed": false
   },
   "outputs": [],
   "source": [
    "search_term = '\"data analyst\" \"SimilarWeb\" linkedin'\n",
    "json_data_analyst_similarweb = get_search_results(search_term)"
   ]
  },
  {
   "cell_type": "code",
   "execution_count": null,
   "id": "497b071b2b624349",
   "metadata": {
    "ExecuteTime": {
     "end_time": "2024-03-31T10:11:50.776724Z",
     "start_time": "2024-03-31T10:11:50.655627Z"
    },
    "collapsed": false
   },
   "outputs": [],
   "source": [
    "name_from_link = []\n",
    "name_from_title=[]\n",
    "job_title = []\n",
    "company = []\n",
    "data=pd.DataFrame()\n",
    "for result in json_data_analyst_similarweb[\"organic\"]:\n",
    "    link_text=result[\"link\"]\n",
    "    if \"/in/\" in link_text:\n",
    "        name_from_link.append(parse_linkdin_name(link_text))\n",
    "        name_from_title.append(result[\"title\"].split(\" -\")[0])\n",
    "        job_title.append(search_term.split('\"')[1])\n",
    "        company.append(search_term.split('\"')[3])\n",
    "data[\"name_from_link\"] = name_from_link\n",
    "data[\"name_from_title\"] = name_from_title\n",
    "data[\"job_title\"] = job_title\n",
    "data[\"company\"] = company\n",
    "data.to_csv(\"../../data/employees_extracted.csv\", index=False)"
   ]
  },
  {
   "cell_type": "code",
   "execution_count": null,
   "id": "b2ab0bdcacfcaab0",
   "metadata": {
    "ExecuteTime": {
     "end_time": "2024-03-27T19:01:25.338274500Z",
     "start_time": "2024-03-27T19:01:25.313789700Z"
    },
    "collapsed": false
   },
   "outputs": [],
   "source": [
    "print(json_data_analyst_similarweb[\"organic\"])"
   ]
  }
 ],
 "metadata": {
  "kernelspec": {
   "display_name": "Python 3",
   "language": "python",
   "name": "python3"
  },
  "language_info": {
   "codemirror_mode": {
    "name": "ipython",
    "version": 2
   },
   "file_extension": ".py",
   "mimetype": "text/x-python",
   "name": "python",
   "nbconvert_exporter": "python",
   "pygments_lexer": "ipython2",
   "version": "2.7.6"
  }
 },
 "nbformat": 4,
 "nbformat_minor": 5
}
